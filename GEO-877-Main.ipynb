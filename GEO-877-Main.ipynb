{
 "cells": [
  {
   "cell_type": "markdown",
   "metadata": {},
   "source": [
    "## GEO 877 - Spatial Algorithms \n",
    "### Group Kirsteina \n",
    "#### Tamara, Joya, Andrejs, Djordje"
   ]
  },
  {
   "cell_type": "markdown",
   "metadata": {},
   "source": [
    "### Data"
   ]
  },
  {
   "cell_type": "markdown",
   "metadata": {},
   "source": [
    "\n",
    "#### Description\n",
    "For our analysis, we will be using the following data:\n",
    "- Park data - Grünfläschen - Stadt Zürich - **BOUNDARY DATA**\n",
    "    - 4 data types: Parks, Sports Areas, Cemeteries, Other\n",
    "    - We will use Parks, Sports Areas, and Cemeteries as designated \"parks\"\n",
    "    - We are considering adding Forests to the \"parks\" set\n",
    "        - Could someone please download it, I can't: https://www.stadt-zuerich.ch/geodaten/download/111\n",
    "    - **Can we find a shapefile somewhere that has just green areas as polygons?** we can use it to calculate % areas\n",
    "\n",
    "\n",
    "- Fountain data - **EVALUATION DATA**\n",
    "    - Brunnen - fountains for heat relief\n",
    "    - Stillgewässer - fountains for drinking \n",
    "    - **Can we find a shapefile somewhere that has just water areas as polygons?** we can use it to calculate % areas\n",
    "\n",
    "\n",
    "- ZüriWC data - **EVALUATION DATA**\n",
    "    - Location of publicly accessible WCs\n",
    "\n",
    "\n",
    "- Spielpark data - **EVALUATION DATA**\n",
    "    - Location of kids' playgrounds\n",
    "\n",
    "\n",
    "- LIDAR data - Canopy Height - **EVALUATION DATA**\n",
    "    - Download link: https://www.stadt-zuerich.ch/geodaten/download/Baumhoehen_2022__CHM_aus_Lidar_ \n",
    "\n",
    "\n",
    "- Socialshilfe data - **EVALUATION DATA**\n",
    "    - Data on Social Assistance Quotas - need additional clarity whether this is percent of residents that receive Social Assistance or else\n",
    "\n",
    "\n",
    "#### Data Structure\n",
    "\n",
    "| PolygonID | Polygon Info | Green Area | Water Area | WC | Fountain | Playground | Socialshilfe | Canopy Height |\n",
    "| --- | --- | --- | --- | --- | --- | --- | --- | --- |\n",
    "| X1 | coordinates | % of park | % of park | yes/no boolean | yes/no boolean | yes/no boolean | quota* | height* |\n",
    "\n",
    "*needs more thought and discussion\n"
   ]
  },
  {
   "cell_type": "markdown",
   "metadata": {},
   "source": [
    "### Analysis Workflow - Preliminary"
   ]
  },
  {
   "cell_type": "markdown",
   "metadata": {},
   "source": [
    "\n",
    "1. Create park polygons:\n",
    "    1. Download Wald data\n",
    "    2. Remove \"other\" category\n",
    "    3. Add Wald data\n",
    "    4. Finalize all polygons - ensure all lines are cohesive\n",
    "2. LIDAR Data:\n",
    "    1. Prepare LIDAR data\n",
    "    2. Extract only relevant data for Parks (Union of Park extent and LIDAR) to remove excess\n",
    "3. Calculations:\n",
    "    1. Park area as green space - %\n",
    "    2. Park area as water space - %\n",
    "4. Data Merge:\n",
    "    1. Green area - join data to each park\n",
    "    2. Water area - join data to each park\n",
    "    3. Socialshilfe - join data to each park\n",
    "5. Point in Polygon:\n",
    "    1. WC - each park receives a numeric value\n",
    "    2. Fountain - each park receives a numeric value\n",
    "    3. Playground - each park receives a numeric value\n",
    "6. Point in Polygon - translated:\n",
    "    1. For each (WC, Fountain, Playground) assign a yes/no as result of a logical test loop (0 = no, 0> yes)\n",
    "7. LIDAR Data\n",
    "    1. **Determine a way to use this data** that is in line with the paper\n",
    "8. Clustering\n"
   ]
  },
  {
   "cell_type": "markdown",
   "metadata": {},
   "source": [
    "### Production"
   ]
  },
  {
   "cell_type": "code",
   "execution_count": 33,
   "metadata": {},
   "outputs": [],
   "source": [
    "#Packages\n",
    "\n",
    "from geospatial import *\n",
    "import numpy as np\n",
    "import pandas as pd\n",
    "import matplotlib.pyplot as plt\n",
    "import geopandas as gpd\n",
    "from shapely import wkt"
   ]
  },
  {
   "cell_type": "markdown",
   "metadata": {},
   "source": [
    "#### 1. Polygon creation"
   ]
  },
  {
   "cell_type": "code",
   "execution_count": 34,
   "metadata": {},
   "outputs": [],
   "source": [
    "#Data Import\n",
    "\n",
    "parks = gpd.read_file('data/grunflaschen_csv/data/gsz.gruenflaechen.csv')\n",
    "#parks['produkt'].unique()\n",
    "\n",
    "#forests = pd.read_csv\n",
    "#..."
   ]
  },
  {
   "cell_type": "code",
   "execution_count": null,
   "metadata": {},
   "outputs": [
    {
     "data": {
      "text/plain": [
       "array(['610 Parkanlagen', '630 Sport- und Badeanlagen', '620 Friedhöfe'],\n",
       "      dtype=object)"
      ]
     },
     "execution_count": 35,
     "metadata": {},
     "output_type": "execute_result"
    }
   ],
   "source": [
    "#Data Cleaning\n",
    "#filter out 640 Weitere Freiräume\n",
    "filtered_park = []\n",
    "for x, y in parks.iterrows():\n",
    "    if y['produkt'] != \"640 Weitere Freiräume\":\n",
    "        filtered_park.append(y)\n",
    "\n",
    "dfParks = pd.DataFrame(filtered_park)\n",
    "\n",
    "dfParks['produkt'].unique()\n",
    "#parks.info()"
   ]
  },
  {
   "cell_type": "code",
   "execution_count": null,
   "metadata": {},
   "outputs": [],
   "source": [
    "from numpy import sqrt, radians, arcsin, sin, cos\n",
    "\n",
    "# class and methods for a geometric point\n",
    "# =======================================\n",
    "from numpy import sqrt\n",
    "\n",
    "\n",
    "####### Point #######\n",
    "\n",
    "class Point():\n",
    "    # initialise\n",
    "    def __init__(self, x=None, y=None):\n",
    "        self.x = x\n",
    "        self.y = y\n",
    "    \n",
    "    # representation\n",
    "    def __repr__(self):\n",
    "        return f'Point(x={self.x:.2f}, y={self.y:.2f})'\n",
    "\n",
    "        # Test for equality between Points\n",
    "    def __eq__(self, other): \n",
    "        if not isinstance(other, Point):\n",
    "            # don't attempt to compare against unrelated types\n",
    "            return NotImplemented\n",
    "        return self.x == other.x and self.y == other.y\n",
    "\n",
    "    # We need this method so that the class will behave sensibly in sets and dictionaries\n",
    "    def __hash__(self):\n",
    "        return hash((self.x, self.y))\n",
    "    \n",
    "    # calculate Euclidean distance between two points\n",
    "    def distEuclidean(self, other):\n",
    "        return sqrt((self.x-other.x)**2 + (self.y-other.y)**2)\n",
    "    \n",
    "    # calculate Manhattan distance between two points\n",
    "    def distManhattan(self, other):\n",
    "        return abs(self.x-other.x) + abs(self.y-other.y)\n",
    "\n",
    "    # Haversine distance between two points on a sphere - requires lat/lng converted to radians\n",
    "    def distHaversine(self, other):\n",
    "        r = 6371000  # Earth's radius in metres (will return result in metres)\n",
    "        phi1 = radians(self.y) # latitudes\n",
    "        phi2 = radians(other.y)\n",
    "        lam1 = radians(self.x) # longitudes\n",
    "        lam2 = radians(other.x)\n",
    "\n",
    "        d = 2 * r * arcsin(sqrt(sin((phi2 - phi1)/2)**2 + \n",
    "                                      cos(phi1) * cos(phi2) * sin((lam2 - lam1)/2)**2))\n",
    "        return d   \n",
    "\n",
    "    \n",
    "    # Calculate determinant with respect to three points. Note the order matters here - we use it to work out left/ right in the next method\n",
    "    def __det(self, p1, p2):\n",
    "        det = (self.x-p1.x)*(p2.y-p1.y)-(p2.x-p1.x)*(self.y-p1.y)       \n",
    "        return det\n",
    "\n",
    "    def leftRight(self, p1, p2):\n",
    "        # based on GIS Algorithms, Ch2, p11-12, by Ningchuan Xiao, publ. 2016\n",
    "        # -ve: this point is on the left side of a line connecting p1 and p2\n",
    "        #   0: this point is collinear\n",
    "        # +ve: this point is on the right side of the line\n",
    "        side = int(self.__det(p1, p2))\n",
    "        if side != 0:\n",
    "            side = side/abs(side)  # will return 0 if collinear, -1 for left, 1 for right\n",
    "        return side\n",
    "    \n",
    "####### PointGroup #######\n",
    "class PointGroup(): \n",
    "    # initialise\n",
    "    def __init__(self, data=None, xcol=None, ycol=None):\n",
    "        self.points = []\n",
    "        self.size = len(data)\n",
    "        for d in data:\n",
    "            self.points.append(Point(d[xcol], d[ycol]))\n",
    "    \n",
    "    # representation\n",
    "    def __repr__(self):\n",
    "        return f'PointGroup containing {self.size} points' \n",
    " \n",
    "    # create index of points in group for referencing\n",
    "    def __getitem__(self, key):\n",
    "        return self.points[key]\n",
    "    \n",
    "\n",
    "####### Polygon #######\n",
    "class Polygon(PointGroup):  \n",
    "    # initialise\n",
    "    def __init__(self, data=None, xcol=None, ycol=None):\n",
    "        self.points = []\n",
    "        self.size = len(data)\n",
    "        for d in data:\n",
    "            self.points.append(Point(d[xcol], d[ycol]))\n",
    "        self.bbox = Bbox(self)\n",
    "        \n",
    "    # representation\n",
    "    def __repr__(self):\n",
    "        return f'Polygon PointGroup containing {self.size} points' \n",
    "  \n",
    "    # test if polygon is closed: first and last point should be identical\n",
    "    def isClosed(self):\n",
    "        start = self.points[0]\n",
    "        end = self.points[-1]\n",
    "        return start == end\n",
    "\n",
    "    def removeDuplicates(self):\n",
    "        oldn = len(self.points)\n",
    "        self.points = list(dict.fromkeys(self.points)) # Get rid of the duplicates\n",
    "        self.points.append(self.points[0]) # Our polygon must have one duplicate - we put it back now\n",
    "        n = len(self.points)\n",
    "        print(f'The old polygon had {oldn} points, now we only have {n}.')\n",
    "        \n",
    "        # find area and centre of the polygon\n",
    "    # - based on GIS Algorithms, Ch.2 p9-10, by Ningchuan Xiao, publ. 2016 \n",
    "    \n",
    "    def __signedArea(self):  # used for both area and centre calculations - this is a private method (only used within the class)\n",
    "        a = 0\n",
    "        xmean = 0\n",
    "        ymean = 0\n",
    "        for i in range(0, self.size-1):\n",
    "            ai = self[i].x * self[i+1].y - self[i+1].x * self[i].y\n",
    "            a += ai\n",
    "            xmean += (self[i+1].x + self[i].x) * ai\n",
    "            ymean += (self[i+1].y + self[i].y) * ai\n",
    "\n",
    "        a = a/2.0   # signed area of polygon (can be a negative)\n",
    "    \n",
    "        return a, xmean, ymean\n",
    "    \n",
    "    def area(self):\n",
    "        a, xmean, ymean = self.__signedArea()\n",
    "        area = abs(a)   # absolute area of polygon\n",
    "        \n",
    "        return area\n",
    "\n",
    "    def centre(self):\n",
    "        a, xmean, ymean = self.__signedArea() # note we use the signed area here\n",
    "        centre = Point(xmean/(6*a), ymean/(6*a)) # centre of polygon \n",
    "        return centre\n",
    "\n",
    "    def containsPoint(self, p):\n",
    "        if (self.bbox.containsPoint(p) == False):\n",
    "            return False\n",
    "        \n",
    "        # Solution, as discussed in lecture, added here\n",
    "        ray = Segment(p, Point(self.bbox.ur.x+1, p.y))\n",
    "        count = 0\n",
    "        \n",
    "        for i in range(0, self.size-1):\n",
    "            start = self[i]\n",
    "            end = self[i+1]\n",
    "            if (start.y != end.y): \n",
    "                if ((p.x < start.x) and (p.y == start.y)): \n",
    "                    count = count + 1\n",
    "                else:\n",
    "                    s = Segment(start, end)\n",
    "                    if s.intersects(ray):\n",
    "                        count = count + 1\n",
    "              \n",
    "        if (count%2 == 0):\n",
    "            return False           \n",
    "\n",
    "        return True"
   ]
  },
  {
   "cell_type": "code",
   "execution_count": null,
   "metadata": {},
   "outputs": [
    {
     "name": "stdout",
     "output_type": "stream",
     "text": [
      "              pflegeareal                                           geometry  \\\n",
      "110           FH Sihlfeld  MULTIPOLYGON (((2.68e+06 1.25e+06, 2.68e+06 1....   \n",
      "410  Sportzentrum Hardhof  MULTIPOLYGON (((2.68e+06 1.25e+06, 2.68e+06 1....   \n",
      "8               Allmend I  MULTIPOLYGON (((2.68e+06 1.24e+06, 2.68e+06 1....   \n",
      "105           FH Nordheim  MULTIPOLYGON (((2.68e+06 1.25e+06, 2.68e+06 1....   \n",
      "98            FH Eichbühl  POLYGON ((2.68e+06 1.25e+06, 2.68e+06 1.25e+06...   \n",
      "..                    ...                                                ...   \n",
      "30          Bellariaplatz  POLYGON ((2.68e+06 1.25e+06, 2.68e+06 1.25e+06...   \n",
      "480       Weggebiet LE911  POLYGON ((2.68e+06 1.24e+06, 2.68e+06 1.24e+06...   \n",
      "190          Hauseranlage  POLYGON ((2.69e+06 1.25e+06, 2.69e+06 1.25e+06...   \n",
      "349     Schaffhauserplatz  MULTIPOLYGON (((2.68e+06 1.25e+06, 2.68e+06 1....   \n",
      "506          Zelglianlage  POLYGON ((2.68e+06 1.25e+06, 2.68e+06 1.25e+06...   \n",
      "\n",
      "    objektidentifikator          produkt    erfassungseinheit objectid  \\\n",
      "110               63861    620 Friedhöfe  624 Friedhofanlagen    28899   \n",
      "410                6401  610 Parkanlagen      611 Parkanlagen      223   \n",
      "8                 13674  610 Parkanlagen      611 Parkanlagen     3846   \n",
      "105               65441    620 Friedhöfe  624 Friedhofanlagen    29689   \n",
      "98                67104    620 Friedhöfe  624 Friedhofanlagen    30520   \n",
      "..                  ...              ...                  ...      ...   \n",
      "30                13534  610 Parkanlagen      611 Parkanlagen     3776   \n",
      "480               22554  610 Parkanlagen      611 Parkanlagen     8270   \n",
      "190               14924  610 Parkanlagen      611 Parkanlagen     4466   \n",
      "349                8192  610 Parkanlagen      611 Parkanlagen     1118   \n",
      "506                9061  610 Parkanlagen      611 Parkanlagen     1548   \n",
      "\n",
      "                                         pflegeeinheit pflegestufe  \\\n",
      "110                                   2421 Blumenrasen           3   \n",
      "410  3782 Pflasterung und Plattenbeläge (inkl. Rase...           3   \n",
      "8                                           2816 Mauer           3   \n",
      "105                                         2426 Mauer           2   \n",
      "98                                2433 Gewässer ruhend           3   \n",
      "..                                                 ...         ...   \n",
      "30                              2682 Ruderalvegetation           3   \n",
      "480                             5761 Treppe, Sitzstufe           3   \n",
      "190                            1636 Strauchbepflanzung           3   \n",
      "349                                     1553 Beetrosen           3   \n",
      "506                            1964 Staudenbepflanzung           3   \n",
      "\n",
      "              area  \n",
      "110  256402.438326  \n",
      "410  233549.059461  \n",
      "8    168765.687047  \n",
      "105  160952.536368  \n",
      "98   138903.774361  \n",
      "..             ...  \n",
      "30       80.295000  \n",
      "480      76.370000  \n",
      "190      73.525000  \n",
      "349      56.485000  \n",
      "506      45.370000  \n",
      "\n",
      "[517 rows x 9 columns]\n"
     ]
    },
    {
     "name": "stderr",
     "output_type": "stream",
     "text": [
      "C:\\Users\\Joya\\AppData\\Local\\Temp\\ipykernel_55372\\681822438.py:18: UserWarning: Column names longer than 10 characters will be truncated when saved to ESRI Shapefile.\n",
      "  largest_geometry.to_file('data/largest_geometry.shp')\n",
      "c:\\Users\\Joya\\anaconda3\\Lib\\site-packages\\pyogrio\\raw.py:723: RuntimeWarning: Normalized/laundered field name: 'pflegeareal' to 'pflegearea'\n",
      "  ogr_write(\n",
      "c:\\Users\\Joya\\anaconda3\\Lib\\site-packages\\pyogrio\\raw.py:723: RuntimeWarning: Normalized/laundered field name: 'objektidentifikator' to 'objektiden'\n",
      "  ogr_write(\n",
      "c:\\Users\\Joya\\anaconda3\\Lib\\site-packages\\pyogrio\\raw.py:723: RuntimeWarning: Normalized/laundered field name: 'erfassungseinheit' to 'erfassungs'\n",
      "  ogr_write(\n",
      "c:\\Users\\Joya\\anaconda3\\Lib\\site-packages\\pyogrio\\raw.py:723: RuntimeWarning: Normalized/laundered field name: 'pflegeeinheit' to 'pflegeeinh'\n",
      "  ogr_write(\n",
      "c:\\Users\\Joya\\anaconda3\\Lib\\site-packages\\pyogrio\\raw.py:723: RuntimeWarning: Normalized/laundered field name: 'pflegestufe' to 'pflegestuf'\n",
      "  ogr_write(\n"
     ]
    }
   ],
   "source": [
    "#convert to geodataframe \n",
    "gdfParks = gpd.GeoDataFrame(dfParks, geometry=\"geometry\", crs=\"EPSG:2056\") \n",
    "#group and dissolve by 'pflegeareal'\n",
    "gdf_grouped = gdfParks.dissolve(by=\"pflegeareal\")\n",
    "# Reset the index to make 'pflegeareal' a column again\n",
    "gdf_grouped = gdf_grouped.reset_index()\n",
    "# Add an area column\n",
    "gdf_grouped['area'] = gdf_grouped.geometry.area\n",
    "# Sort by area in descending order and keep the largest geometry for each 'pflegeareal', so that biggest area is kept\n",
    "largest_geometry = gdf_grouped.sort_values(by='area', ascending=False).drop_duplicates(subset='pflegeareal', keep='first')\n",
    "# Save the result to a new csv\n",
    "largest_geometry.to_file('data/largest_geometry.shp')\n",
    "largest_geometry[['pflegeareal', 'area']].to_csv('data/largest_geometry.csv', index=False)\n",
    "\n",
    "# Print the result\n",
    "print(largest_geometry)\n",
    "#hey\n"
   ]
  },
  {
   "cell_type": "markdown",
   "metadata": {},
   "source": [
    "#### 2. LiDAR data preparation"
   ]
  },
  {
   "cell_type": "code",
   "execution_count": null,
   "metadata": {},
   "outputs": [],
   "source": []
  },
  {
   "cell_type": "markdown",
   "metadata": {},
   "source": [
    "#### 3. % Space Calculations (I think that we can make this an algorithm, too)"
   ]
  },
  {
   "cell_type": "code",
   "execution_count": null,
   "metadata": {},
   "outputs": [],
   "source": []
  },
  {
   "cell_type": "markdown",
   "metadata": {},
   "source": [
    "#### 4. Data Merging/Joining"
   ]
  },
  {
   "cell_type": "code",
   "execution_count": null,
   "metadata": {},
   "outputs": [],
   "source": []
  },
  {
   "cell_type": "markdown",
   "metadata": {},
   "source": [
    "#### 5. Point in Polygon (Algorithm)"
   ]
  },
  {
   "cell_type": "code",
   "execution_count": null,
   "metadata": {},
   "outputs": [],
   "source": []
  },
  {
   "cell_type": "markdown",
   "metadata": {},
   "source": [
    "### 6. Socialshilfe data prep"
   ]
  },
  {
   "cell_type": "code",
   "execution_count": null,
   "metadata": {},
   "outputs": [],
   "source": []
  },
  {
   "cell_type": "markdown",
   "metadata": {},
   "source": [
    "#### X. Clustering (We could attempt an algorithm)"
   ]
  },
  {
   "cell_type": "code",
   "execution_count": null,
   "metadata": {},
   "outputs": [],
   "source": []
  }
 ],
 "metadata": {
  "kernelspec": {
   "display_name": "base",
   "language": "python",
   "name": "python3"
  },
  "language_info": {
   "codemirror_mode": {
    "name": "ipython",
    "version": 3
   },
   "file_extension": ".py",
   "mimetype": "text/x-python",
   "name": "python",
   "nbconvert_exporter": "python",
   "pygments_lexer": "ipython3",
   "version": "3.12.7"
  }
 },
 "nbformat": 4,
 "nbformat_minor": 2
}
