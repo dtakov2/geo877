{
 "cells": [
  {
   "cell_type": "markdown",
   "metadata": {},
   "source": [
    "## GEO 877 - Spatial Algorithms \n",
    "### Group Kirsteina \n",
    "#### Tamara, Joya, Andrejs, Djordje"
   ]
  },
  {
   "cell_type": "markdown",
   "metadata": {},
   "source": [
    "### Data"
   ]
  },
  {
   "cell_type": "markdown",
   "metadata": {},
   "source": [
    "\n",
    "#### Description\n",
    "For our analysis, we will be using the following data:\n",
    "- Park data - Grünflächen - Stadt Zürich - **BOUNDARY DATA**\n",
    "    - 4 data types: Parks, Sports Areas, Cemeteries, Other\n",
    "    - We will use Parks, Sports Areas, and Cemeteries as designated \"parks\"\n",
    "\n",
    "\n",
    "- Fountain data - **EVALUATION DATA**\n",
    "    - Brunnen - fountains for drinking\n",
    "\n",
    "    \n",
    "- Blue/Green % - **EVALUATION DATA**\n",
    "    - Water bodies - OSM data\n",
    "    - Green spaces - OSM data (maybe)\n",
    "\n",
    "\n",
    "- ZüriWC data - **EVALUATION DATA**\n",
    "    - Location of publicly accessible WCs\n",
    "\n",
    "\n",
    "- Spielpark data - **EVALUATION DATA**\n",
    "    - Location of kids' playgrounds\n",
    "\n",
    "\n",
    "- LIDAR data - Canopy Height - **EVALUATION DATA**\n",
    "    - Download link: https://www.stadt-zuerich.ch/geodaten/download/Baumhoehen_2022__CHM_aus_Lidar_ \n",
    "\n",
    "\n",
    "- Sozialhilfe data - **EVALUATION DATA**\n",
    "    - Data on Social Assistance Quotas - need additional clarity whether this is percent of residents that receive Social Assistance or else\n",
    "\n",
    "\n",
    "#### Data Structure\n",
    "\n",
    "| PolygonID | Polygon Info | Green Area | Water Area | WC  (per area)| Fountain (per area)| Playground (per area)| Socialshilfe | Canopy Height |\n",
    "| --- | --- | --- | --- | --- | --- | --- | --- | --- |\n",
    "| X1 | coordinates | % of park | % of park | amount | amount | amount | quota* | mean height* |\n",
    "\n",
    "*needs more thought and discussion\n"
   ]
  },
  {
   "cell_type": "markdown",
   "metadata": {},
   "source": [
    "### Analysis Workflow - Preliminary"
   ]
  },
  {
   "cell_type": "markdown",
   "metadata": {},
   "source": [
    "\n",
    "1. Create park polygons:\n",
    "    1. Download Wald data\n",
    "    2. Remove \"other\" category\n",
    "    3. Add Wald data\n",
    "    4. Finalize all polygons - ensure all lines are cohesive\n",
    "2. LIDAR Data:\n",
    "    1. Prepare LIDAR data\n",
    "    2. Extract only relevant data for Parks (Union of Park extent and LIDAR) to remove excess\n",
    "3. Calculations:\n",
    "    1. Park area as green space - %\n",
    "    2. Park area as water space - %\n",
    "4. Data Merge:\n",
    "    1. Green area - join data to each park\n",
    "    2. Water area - join data to each park\n",
    "    3. Socialshilfe - join data to each park\n",
    "5. Point in Polygon:\n",
    "    1. WC - each park receives a numeric value\n",
    "    2. Fountain - each park receives a numeric value\n",
    "    3. Playground - each park receives a numeric value\n",
    "6. Point in Polygon - translated:\n",
    "    1. For each (WC, Fountain, Playground) assign a yes/no as result of a logical test loop (0 = no, 0> yes)\n",
    "7. LIDAR Data\n",
    "    1. **Determine a way to use this data** that is in line with the paper\n",
    "8. Clustering\n"
   ]
  },
  {
   "cell_type": "markdown",
   "metadata": {},
   "source": [
    "#### 0. Spatial algorithms"
   ]
  },
  {
   "cell_type": "code",
   "execution_count": null,
   "metadata": {},
   "outputs": [],
   "source": [
    "#ALGORITHMS \n",
    "\n",
    "from numpy import sqrt, radians, arcsin, sin, cos\n",
    "\n",
    "####### Point #######\n",
    "\n",
    "class Point():\n",
    "    # initialise\n",
    "    def __init__(self, x=None, y=None):\n",
    "        self.x = x\n",
    "        self.y = y\n",
    "    \n",
    "    # representation\n",
    "    def __repr__(self):\n",
    "        return f'Point(x={self.x:.2f}, y={self.y:.2f})'\n",
    "\n",
    "        # Test for equality between Points\n",
    "    def __eq__(self, other): \n",
    "        if not isinstance(other, Point):\n",
    "            # don't attempt to compare against unrelated types\n",
    "            return NotImplemented\n",
    "        return self.x == other.x and self.y == other.y\n",
    "\n",
    "    # We need this method so that the class will behave sensibly in sets and dictionaries\n",
    "    def __hash__(self):\n",
    "        return hash((self.x, self.y))\n",
    "    \n",
    "    # calculate Euclidean distance between two points\n",
    "    def distEuclidean(self, other):\n",
    "        return sqrt((self.x-other.x)**2 + (self.y-other.y)**2)\n",
    "    \n",
    "    # calculate Manhattan distance between two points\n",
    "    def distManhattan(self, other):\n",
    "        return abs(self.x-other.x) + abs(self.y-other.y)\n",
    "\n",
    "    # Haversine distance between two points on a sphere - requires lat/lng converted to radians\n",
    "    def distHaversine(self, other):\n",
    "        r = 6371000  # Earth's radius in metres (will return result in metres)\n",
    "        phi1 = radians(self.y) # latitudes\n",
    "        phi2 = radians(other.y)\n",
    "        lam1 = radians(self.x) # longitudes\n",
    "        lam2 = radians(other.x)\n",
    "\n",
    "        d = 2 * r * arcsin(sqrt(sin((phi2 - phi1)/2)**2 + \n",
    "                                      cos(phi1) * cos(phi2) * sin((lam2 - lam1)/2)**2))\n",
    "        return d   \n",
    "\n",
    "    \n",
    "    # Calculate determinant with respect to three points. Note the order matters here - we use it to work out left/ right in the next method\n",
    "    def __det(self, p1, p2):\n",
    "        det = (self.x-p1.x)*(p2.y-p1.y)-(p2.x-p1.x)*(self.y-p1.y)       \n",
    "        return det\n",
    "\n",
    "    def leftRight(self, p1, p2):\n",
    "        # based on GIS Algorithms, Ch2, p11-12, by Ningchuan Xiao, publ. 2016\n",
    "        # -ve: this point is on the left side of a line connecting p1 and p2\n",
    "        #   0: this point is collinear\n",
    "        # +ve: this point is on the right side of the line\n",
    "        side = int(self.__det(p1, p2))\n",
    "        if side != 0:\n",
    "            side = side/abs(side)  # will return 0 if collinear, -1 for left, 1 for right\n",
    "        return side\n",
    "    \n",
    "####### PointGroup #######\n",
    "class PointGroup(): \n",
    "    # initialise\n",
    "    def __init__(self, data=None, xcol=None, ycol=None):\n",
    "        self.points = []\n",
    "        self.size = len(data)\n",
    "        for d in data:\n",
    "            self.points.append(Point(d[xcol], d[ycol]))\n",
    "    \n",
    "    # representation\n",
    "    def __repr__(self):\n",
    "        return f'PointGroup containing {self.size} points' \n",
    " \n",
    "    # create index of points in group for referencing\n",
    "    def __getitem__(self, key):\n",
    "        return self.points[key]\n",
    "    \n",
    "\n",
    "####### Polygon #######\n",
    "class Polygon(PointGroup):  \n",
    "    # initialise\n",
    "    def __init__(self, data=None, xcol=None, ycol=None):\n",
    "        self.points = []\n",
    "        self.size = len(data)\n",
    "        for d in data:\n",
    "            self.points.append(Point(d[xcol], d[ycol]))\n",
    "        self.bbox = Bbox(self)\n",
    "        \n",
    "    # representation\n",
    "    def __repr__(self):\n",
    "        return f'Polygon PointGroup containing {self.size} points' \n",
    "  \n",
    "    # test if polygon is closed: first and last point should be identical\n",
    "    def isClosed(self):\n",
    "        start = self.points[0]\n",
    "        end = self.points[-1]\n",
    "        return start == end\n",
    "\n",
    "    def removeDuplicates(self):\n",
    "        oldn = len(self.points)\n",
    "        self.points = list(dict.fromkeys(self.points)) # Get rid of the duplicates\n",
    "        self.points.append(self.points[0]) # Our polygon must have one duplicate - we put it back now\n",
    "        n = len(self.points)\n",
    "        print(f'The old polygon had {oldn} points, now we only have {n}.')\n",
    "        \n",
    "        # find area and centre of the polygon\n",
    "    # - based on GIS Algorithms, Ch.2 p9-10, by Ningchuan Xiao, publ. 2016 \n",
    "    \n",
    "    def __signedArea(self):  # used for both area and centre calculations - this is a private method (only used within the class)\n",
    "        a = 0\n",
    "        xmean = 0\n",
    "        ymean = 0\n",
    "        for i in range(0, self.size-1):\n",
    "            ai = self[i].x * self[i+1].y - self[i+1].x * self[i].y\n",
    "            a += ai\n",
    "            xmean += (self[i+1].x + self[i].x) * ai\n",
    "            ymean += (self[i+1].y + self[i].y) * ai\n",
    "\n",
    "        a = a/2.0   # signed area of polygon (can be a negative)\n",
    "    \n",
    "        return a, xmean, ymean\n",
    "    \n",
    "    def area(self):\n",
    "        a, xmean, ymean = self.__signedArea()\n",
    "        area = abs(a)   # absolute area of polygon\n",
    "        \n",
    "        return area\n",
    "\n",
    "    def centre(self):\n",
    "        a, xmean, ymean = self.__signedArea() # note we use the signed area here\n",
    "        centre = Point(xmean/(6*a), ymean/(6*a)) # centre of polygon \n",
    "        return centre\n",
    "\n",
    "    def containsPoint(self, p):\n",
    "        if (self.bbox.containsPoint(p) == False):\n",
    "            return False\n",
    "        \n",
    "        # Solution, as discussed in lecture, added here\n",
    "        ray = Segment(p, Point(self.bbox.ur.x+1, p.y))\n",
    "        count = 0\n",
    "        \n",
    "        for i in range(0, self.size-1):\n",
    "            start = self[i]\n",
    "            end = self[i+1]\n",
    "            if (start.y != end.y): \n",
    "                if ((p.x < start.x) and (p.y == start.y)): \n",
    "                    count = count + 1\n",
    "                else:\n",
    "                    s = Segment(start, end)\n",
    "                    if s.intersects(ray):\n",
    "                        count = count + 1\n",
    "              \n",
    "        if (count%2 == 0):\n",
    "            return False           \n",
    "\n",
    "        return True"
   ]
  },
  {
   "cell_type": "markdown",
   "metadata": {},
   "source": [
    "### Production"
   ]
  },
  {
   "cell_type": "code",
   "execution_count": 50,
   "metadata": {},
   "outputs": [],
   "source": [
    "#Packages\n",
    "\n",
    "from geospatial import *\n",
    "import numpy as np\n",
    "import pandas as pd\n",
    "import matplotlib.pyplot as plt\n",
    "import geopandas as gpd\n",
    "from shapely import wkt\n",
    "from shapely.geometry import Point, Polygon, MultiPolygon\n",
    "from shapely.geometry import shape\n",
    "from shapely.ops import unary_union"
   ]
  },
  {
   "cell_type": "markdown",
   "metadata": {},
   "source": [
    "#### 1. Polygon creation"
   ]
  },
  {
   "cell_type": "code",
   "execution_count": 51,
   "metadata": {},
   "outputs": [],
   "source": [
    "#Data Import\n",
    "\n",
    "parks = gpd.read_file('data/grunflaschen_csv/data/gsz.gruenflaechen.csv')\n",
    "#parks['produkt'].unique()"
   ]
  },
  {
   "cell_type": "code",
   "execution_count": 52,
   "metadata": {},
   "outputs": [
    {
     "name": "stdout",
     "output_type": "stream",
     "text": [
      "3177\n",
      "\n",
      "45\n",
      "\n",
      "['Blumenwiese' 'Strauchbepflanzung' 'Gebrauchsrasen' 'Mauer'\n",
      " 'Pflasterung und Plattenbeläge (inkl. Rasengitter)' 'Chaussierung'\n",
      " 'Holzbelag' 'Asphalt und Ortbeton' 'Beetrosen' 'Formhecke' 'Wildhecke'\n",
      " 'Gewässer ruhend' 'Sandfläche (Spiel / Sport)' 'Fallschutz fest'\n",
      " 'Wechselflor' 'Sonstige' 'Treppe, Sitzstufe' 'Blumenrasen'\n",
      " 'Brunnen, Wasserbecken, Planschbecken' 'Staudenbepflanzung'\n",
      " 'Ruderalvegetation' 'Gefäss- und Trogbegrünung im Aussenbereich'\n",
      " 'Parkwald' 'Fallschutz lose' 'Vertikalbegrünung' 'Bodendecker'\n",
      " 'Kontrolle GSZ' 'Schotterrasen' 'Tennenbelag'\n",
      " 'Sportrasen - Bodennah, DIN, Hybrid' 'Uferverbauung'\n",
      " 'Holz- und Rindenschnitzelbelag (Finnenbahn)' 'Dachbegrünung extensiv'\n",
      " 'Moorbeet' 'Gebäude' 'Schülergarten' 'Hochstaudenflur' 'Trockenmauer'\n",
      " ' Strauchbepflanzung' 'Verpachtet' 'Mietergarten' 'Gewässer fliessend'\n",
      " 'Grabpflege' 'Kunststoffrasen verfüllt' 'Kunststoffrasen unverfüllt']\n"
     ]
    }
   ],
   "source": [
    "#Data Cleaning\n",
    "\n",
    "#keep only \n",
    "filtered_park = []\n",
    "for x, y in parks.iterrows():\n",
    "    if y['erfassungseinheit'] in [\"611 Parkanlagen\", \"624 Friedhofanlagen\", \"631 Sportanlagen\"]:\n",
    "        filtered_park.append(y)\n",
    "\n",
    "dfParks_0 = pd.DataFrame(filtered_park)\n",
    "\n",
    "print(dfParks_0['pflegeeinheit'].nunique())\n",
    "dfParks_0['pflegeeinheit'] = dfParks_0['pflegeeinheit'].str[5:] #delete first 5 characters (4 digits and a space)\n",
    "print()\n",
    "print(dfParks_0['pflegeeinheit'].nunique())\n",
    "print()\n",
    "print(dfParks_0['pflegeeinheit'].unique())\n"
   ]
  },
  {
   "cell_type": "code",
   "execution_count": 53,
   "metadata": {},
   "outputs": [
    {
     "name": "stdout",
     "output_type": "stream",
     "text": [
      "17\n",
      "\n",
      "['Holzbelag' 'Beetrosen' 'Sandfläche (Spiel / Sport)' 'Wechselflor'\n",
      " 'Blumenrasen' 'Staudenbepflanzung' 'Ruderalvegetation' 'Parkwald'\n",
      " 'Bodendecker' 'Schotterrasen' 'Tennenbelag'\n",
      " 'Sportrasen - Bodennah, DIN, Hybrid'\n",
      " 'Holz- und Rindenschnitzelbelag (Finnenbahn)' 'Moorbeet'\n",
      " 'Hochstaudenflur' 'Kunststoffrasen verfüllt' 'Kunststoffrasen unverfüllt']\n",
      "    objektidentifikator              pflegeareal          produkt  \\\n",
      "16                 5988           Wettingertobel  610 Parkanlagen   \n",
      "31                 6018              Wydlerplatz  610 Parkanlagen   \n",
      "119                6195   Grünzug Triemlifussweg  610 Parkanlagen   \n",
      "146                6249  Alte Kirche Albisrieden  610 Parkanlagen   \n",
      "152                6261           Kartoffelmarkt  610 Parkanlagen   \n",
      "\n",
      "    erfassungseinheit objectid               pflegeeinheit pflegestufe  \\\n",
      "16    611 Parkanlagen       17                   Holzbelag           3   \n",
      "31    611 Parkanlagen       32                   Beetrosen           3   \n",
      "119   611 Parkanlagen      120  Sandfläche (Spiel / Sport)           3   \n",
      "146   611 Parkanlagen      147                 Wechselflor           3   \n",
      "152   611 Parkanlagen      153                   Beetrosen           3   \n",
      "\n",
      "                                              geometry  \n",
      "16   POLYGON ((2679696.5 1250430.2,2679696.8 125043...  \n",
      "31   POLYGON ((2678974.5 1247700.9,2678979.5 124770...  \n",
      "119  POLYGON ((2680108.8 1247141.9,2680109.5 124714...  \n",
      "146  POLYGON ((2678904.8 1247595.5,2678904.5 124759...  \n",
      "152  POLYGON ((2683675.2 1246968.4,2683675.2 124696...  \n"
     ]
    }
   ],
   "source": [
    "filtered_park1 = []\n",
    "for x, y in dfParks_0.iterrows():\n",
    "    if y['pflegeeinheit'] in [\"Holzbelag\", \"Beetrosen\", \"Sandfläche (Spiel / Sport)\", \"Wechselflor\", \"Blumenrasen\", \"Staudenbepflanzung\", \"Ruderalvegetation\", \"Parkwald\", \"Bodendecker\", \"Schotterrasen\", \"Tennenbelag\", \"Sportrasen - Bodennah, DIN, Hybrid\", \"Holz- und Rindenschnitzelbelag (Finnenbahn)\", \"Moorbeet\", \"Hochstaudenflur\", \"Kunststoffrasen verfüllt\", \"Kunststoffrasen unverfüllt\"]:\n",
    "        filtered_park1.append(y)\n",
    "\n",
    "#\"Blumenwiese\", \"Strauchbepflanzung\", \"Formhecke\", \"Wildhecke\",\n",
    "\n",
    "dfParks = pd.DataFrame(filtered_park1)\n",
    "\n",
    "print(dfParks['pflegeeinheit'].nunique())\n",
    "print()\n",
    "print(dfParks['pflegeeinheit'].unique())\n",
    "print(dfParks.head())"
   ]
  },
  {
   "cell_type": "code",
   "execution_count": 54,
   "metadata": {},
   "outputs": [
    {
     "name": "stdout",
     "output_type": "stream",
     "text": [
      "16     [(2679696.5, 1250430.2), (2679696.8, 1250430.6...\n",
      "31     [(2678974.5, 1247700.9), (2678979.5, 1247704.8...\n",
      "119    [(2680108.8, 1247141.9), (2680109.5, 1247142.5...\n",
      "146    [(2678904.8, 1247595.5), (2678904.5, 1247596.0...\n",
      "152    [(2683675.2, 1246968.4), (2683675.2, 1246969.1...\n",
      "Name: parsed_geometry, dtype: object\n"
     ]
    }
   ],
   "source": [
    "#Coordinate conversion (POLYGON to list of tuples)\n",
    "\n",
    "def parse_wkt_to_points(wkt_string):\n",
    "    geometry = wkt.loads(wkt_string)  #using wkt from Shapely to handle the Polygon information (ChatGPT assistance)\n",
    "    if isinstance(geometry, Polygon):\n",
    "        return [(coord[0], coord[1]) for coord in geometry.exterior.coords] #extract coordinates\n",
    "    \n",
    "    elif isinstance(geometry, MultiPolygon): #edge case: multipolygons\n",
    "        all_polygons = []\n",
    "        for polygon in geometry.geoms:\n",
    "            all_polygons.extend([(coord[0], coord[1]) for coord in polygon.exterior.coords]) #exterior coordinates for all polygons\n",
    "        return all_polygons\n",
    "\n",
    "    else:\n",
    "        raise ValueError(f\"Unsupported geometry type: {type(geometry)}\") #unexpected geometries\n",
    "\n",
    "dfParks['parsed_geometry'] = dfParks['geometry'].apply(parse_wkt_to_points)\n",
    "\n",
    "print(dfParks['parsed_geometry'].head()) #confirmation "
   ]
  },
  {
   "cell_type": "code",
   "execution_count": 55,
   "metadata": {},
   "outputs": [
    {
     "name": "stdout",
     "output_type": "stream",
     "text": [
      "               pflegeareal          produkt                objectid  \\\n",
      "0          Aegertenplätzli  610 Parkanlagen              3844, 3845   \n",
      "1            Aemtleranlage  610 Parkanlagen  2470, 2472, 4847, 4848   \n",
      "2    Albin-Zollinger-Platz  610 Parkanlagen                    1936   \n",
      "3           Albisgüetliweg  610 Parkanlagen                    8124   \n",
      "4  Alfred-Altherr-Terrasse  610 Parkanlagen                    1917   \n",
      "\n",
      "                                     parsed_geometry  \n",
      "0  [(2681887.2, 1247055.9), (2681898.8, 1247065.1...  \n",
      "1  [(2681067.5, 1247651.4), (2681070.8, 1247654.6...  \n",
      "2  [(2683321.0, 1251050.9), (2683321.0, 1251051.5...  \n",
      "3  [(2681572.8, 1245690.1), (2681586.5, 1245705.0...  \n",
      "4  [(2684093.2, 1249971.4), (2684097.0, 1249975.8...  \n"
     ]
    }
   ],
   "source": [
    "#Removing unneccessary columns\n",
    "\n",
    "keep = ['pflegeareal', 'produkt', 'objectid', 'parsed_geometry' ] #what to keep, else delete\n",
    "dfParks_filtered = dfParks[keep]\n",
    "\n",
    "#print(dfParks_filtered.head())\n",
    "\n",
    "dfParks_combined = dfParks_filtered.groupby('pflegeareal').agg({\n",
    "\n",
    "    'produkt': 'first',  #keep the first value (all are the same)\n",
    "    'objectid': lambda x: ', '.join(map(str, x)),  #combine object IDs into a single string, comma delineated (legacy values)\n",
    "    'parsed_geometry': lambda x: [coord for geom in x for coord in geom]  #flatten, combine, resulting in a new list of tuples\n",
    "}).reset_index()\n",
    "\n",
    "print(dfParks_combined.head()) #confirmation"
   ]
  },
  {
   "cell_type": "code",
   "execution_count": 56,
   "metadata": {},
   "outputs": [
    {
     "name": "stdout",
     "output_type": "stream",
     "text": [
      "               pflegeareal          produkt                objectid  \\\n",
      "0          Aegertenplätzli  610 Parkanlagen              3844, 3845   \n",
      "1            Aemtleranlage  610 Parkanlagen  2470, 2472, 4847, 4848   \n",
      "2    Albin-Zollinger-Platz  610 Parkanlagen                    1936   \n",
      "3           Albisgüetliweg  610 Parkanlagen                    8124   \n",
      "4  Alfred-Altherr-Terrasse  610 Parkanlagen                    1917   \n",
      "\n",
      "                                     parsed_geometry   poly_area  \n",
      "0  [(2681887.2, 1247055.9), (2681898.8, 1247065.1...  111.899658  \n",
      "1  [(2681067.5, 1247651.4), (2681070.8, 1247654.6...  891.131836  \n",
      "2  [(2683321.0, 1251050.9), (2683321.0, 1251051.5...   53.000488  \n",
      "3  [(2681572.8, 1245690.1), (2681586.5, 1245705.0...  338.265137  \n",
      "4  [(2684093.2, 1249971.4), (2684097.0, 1249975.8...   32.949951  \n"
     ]
    }
   ],
   "source": [
    "#Calculate area of each Park Polygon\n",
    "\n",
    "def calculate_polygon_area(polygon_points):\n",
    "    n = len(polygon_points) #test if polygon, must have at least 3 points\n",
    "    if n < 3:\n",
    "        return 0 \n",
    "\n",
    "    area = 0\n",
    "    for i in range(n):\n",
    "        x1, y1 = polygon_points[i]\n",
    "        x2, y2 = polygon_points[(i + 1) % n]  #1st point + 1 (moves to next element), % n wraps around to beginning once n-1 is reached\n",
    "        area += x1 * y2 - x2 * y1 #shoelace formula\n",
    "\n",
    "    return abs(area) / 2\n",
    "\n",
    "def add_polygon_area_column(df): #apply the function to the DataFrame\n",
    "    df['poly_area'] = df['parsed_geometry'].apply(calculate_polygon_area) #store information in a new column\n",
    "    return df\n",
    "\n",
    "dfParks_combined = add_polygon_area_column(dfParks_combined) #apply formula to the DataFrame dfParks\n",
    "\n",
    "#print(dfParks[['parsed_geometry', 'poly_area']].head()) #validation here and below\n",
    "print(dfParks_combined.head())"
   ]
  },
  {
   "cell_type": "code",
   "execution_count": 57,
   "metadata": {},
   "outputs": [
    {
     "data": {
      "image/png": "[encoded data removed]",
      "text/plain": [
       "<Figure size 1000x800 with 1 Axes>"
      ]
     },
     "metadata": {},
     "output_type": "display_data"
    }
   ],
   "source": [
    "import matplotlib.pyplot as plt\n",
    "from matplotlib.patches import Polygon as MplPolygon\n",
    "from matplotlib.collections import PatchCollection\n",
    "from geospatial import Polygon, Point  #class code\n",
    "\n",
    "def plot_parsed_geometry_with_classes(df, geometry_column='parsed_geometry', title='Parsed Geometry Visualization'):\n",
    "    fig, ax = plt.subplots(figsize=(10, 8))\n",
    "    patches = []\n",
    "    \n",
    "    for _, row in df.iterrows():\n",
    "        polygon = Polygon(data=row[geometry_column], xcol=0, ycol=1)  #create a Polygon object\n",
    "        mpl_polygon = MplPolygon([(point.x, point.y) for point in polygon.points], closed=True, \n",
    "                                  edgecolor='black', facecolor='green', alpha=0.5)\n",
    "        patches.append(mpl_polygon)\n",
    "    \n",
    "    collection = PatchCollection(patches, match_original=True)\n",
    "    ax.add_collection(collection)\n",
    "    ax.set_aspect('equal', adjustable='datalim') #set aspect ratio to equal\n",
    "    \n",
    "    #plot details\n",
    "    ax.autoscale()\n",
    "    ax.set_title(title)\n",
    "    ax.set_xlabel('X Coordinate')\n",
    "    ax.set_ylabel('Y Coordinate')\n",
    "    plt.grid(True)\n",
    "    plt.show()\n",
    "\n",
    "plot_parsed_geometry_with_classes(dfParks_combined, geometry_column='parsed_geometry')\n"
   ]
  },
  {
   "cell_type": "code",
   "execution_count": null,
   "metadata": {},
   "outputs": [],
   "source": [
    "#Joya old code\n",
    "blume_park = []\n",
    "for _, row in parks.iterrows():\n",
    "    if 'Blumenwiese' in str(row['pflegeeinheit']):  # Check if \"Chaussierung\" is in the string\n",
    "        blume_park.append(row)\n",
    "\n",
    "# Convert the list to a DataFrame\n",
    "dfBlume= pd.DataFrame(blume_park)\n",
    "\n",
    "# Get unique 'pflegeeinheit' values\n",
    "#print(dfBlume['pflegeeinheit'].unique())\n",
    "\n",
    "# Extract all pflegeeinheit values containing the word \"Chaussierung\"\n",
    "chaussierung_park = []\n",
    "for _, row in parks.iterrows():\n",
    "    if 'Chaussierung' in str(row['pflegeeinheit']):  # Check if \"Chaussierung\" is in the string\n",
    "        chaussierung_park.append(row)\n",
    "\n",
    "# Convert the list to a DataFrame\n",
    "dfChaussierung = pd.DataFrame(chaussierung_park)\n",
    "\n",
    "# Get unique 'pflegeeinheit' values\n",
    "print(dfChaussierung['pflegeeinheit'].unique())\n",
    "\n",
    "#use this somehow later to filter out the chaussierung parks from the rest of the parks"
   ]
  },
  {
   "cell_type": "markdown",
   "metadata": {},
   "source": [
    "#### 2. LiDAR data preparation"
   ]
  },
  {
   "cell_type": "code",
   "execution_count": null,
   "metadata": {},
   "outputs": [],
   "source": []
  },
  {
   "cell_type": "markdown",
   "metadata": {},
   "source": [
    "#### 3. % Space Calculations (I think that we can make this an algorithm, too)"
   ]
  },
  {
   "cell_type": "markdown",
   "metadata": {},
   "source": [
    "##### 3.1. Adding water bodies, converting to the same coordinate system as parks, making the same structure, calculating area, visualising."
   ]
  },
  {
   "cell_type": "code",
   "execution_count": 15,
   "metadata": {},
   "outputs": [
    {
     "name": "stdout",
     "output_type": "stream",
     "text": [
      "                                     parsed_geometry\n",
      "0  [(2682904.270281774, 1245020.54325581), (26829...\n",
      "1  [(2684090.300598057, 1245500.3749201845), (268...\n",
      "2  [(2666589.776121567, 1256693.3181668078), (266...\n",
      "3  [(2681469.9122731695, 1243653.406871837), (268...\n",
      "4  [(2685717.5970246308, 1248935.0668378877), (26...\n",
      "Water bodies: 261\n"
     ]
    }
   ],
   "source": [
    "import pandas as pd\n",
    "import ast\n",
    "from pyproj import Transformer\n",
    "\n",
    "# Load the water polygon CSV\n",
    "csv_path = 'data/osm_water_polygons.csv'\n",
    "water_df = pd.read_csv(csv_path)\n",
    "\n",
    "# Change coordinates from WGS84 to CH1903+ / LV95\n",
    "transformer = Transformer.from_crs(\"EPSG:4326\", \"EPSG:2056\", always_xy=True)\n",
    "\n",
    "# Define function\n",
    "def convert_geometry_to_ch1903(geometry_str):\n",
    "    try:\n",
    "        # Parse stringified list of dicts\n",
    "        points = ast.literal_eval(geometry_str)\n",
    "\n",
    "        # Convert (lon, lat) -> (x, y) in CH1903+\n",
    "        swiss_coords = [transformer.transform(point['x'], point['y']) for point in points]\n",
    "\n",
    "        return swiss_coords  # This becomes the 'parsed_geometry'\n",
    "    except Exception as e:\n",
    "        print(\"Error converting geometry:\", e)\n",
    "        return []\n",
    "\n",
    "# Apply the function to convert and store as parsed_geometry\n",
    "water_df['parsed_geometry'] = water_df['geometry'].apply(convert_geometry_to_ch1903)\n",
    "\n",
    "# Check \n",
    "print(water_df[['parsed_geometry']].head())\n",
    "print(f\"Water bodies: {len(water_df)}\")\n"
   ]
  },
  {
   "cell_type": "code",
   "execution_count": 16,
   "metadata": {},
   "outputs": [
    {
     "name": "stdout",
     "output_type": "stream",
     "text": [
      "                                     parsed_geometry\n",
      "0  [(2682904.270281774, 1245020.54325581), (26829...\n",
      "1  [(2684090.300598057, 1245500.3749201845), (268...\n",
      "2  [(2666589.776121567, 1256693.3181668078), (266...\n",
      "3  [(2681469.9122731695, 1243653.406871837), (268...\n",
      "4  [(2685717.5970246308, 1248935.0668378877), (26...\n",
      "Water bodies kept: 260\n"
     ]
    }
   ],
   "source": [
    "# Define bounding box to filter water bodies only within area of our parks\n",
    "xmin, xmax = 2.677e6, 2.689e6\n",
    "ymin, ymax = 1.241e6, 1.255e6\n",
    "\n",
    "# Function to check if a polygon intersects the bounding box\n",
    "def is_within_bbox(coords, xmin, xmax, ymin, ymax):\n",
    "    for x, y in coords:\n",
    "        if xmin <= x <= xmax and ymin <= y <= ymax:\n",
    "            return True  # at least one point is inside\n",
    "    return False\n",
    "\n",
    "# Apply the filter\n",
    "water_df_filtered = water_df[water_df['parsed_geometry'].apply(lambda coords: is_within_bbox(coords, xmin, xmax, ymin, ymax))].reset_index(drop=True)\n",
    "\n",
    "# Optional: verify result\n",
    "print(water_df_filtered[['parsed_geometry']].head())\n",
    "print(f\"Water bodies kept: {len(water_df_filtered)}\")"
   ]
  },
  {
   "cell_type": "code",
   "execution_count": 17,
   "metadata": {},
   "outputs": [
    {
     "name": "stdout",
     "output_type": "stream",
     "text": [
      "                                     parsed_geometry     poly_area\n",
      "0  [(2682904.270281774, 1245020.54325581), (26829...  8.797089e+07\n",
      "1  [(2684090.300598057, 1245500.3749201845), (268...  8.119497e+02\n",
      "2  [(2666589.776121567, 1256693.3181668078), (266...  1.725565e+06\n",
      "3  [(2681469.9122731695, 1243653.406871837), (268...  9.064921e+04\n",
      "4  [(2685717.5970246308, 1248935.0668378877), (26...  1.948262e+03\n"
     ]
    }
   ],
   "source": [
    "#Calculate area of each Water body\n",
    "def calculate_polygon_area(polygon_points):\n",
    "    n = len(polygon_points)\n",
    "    if n < 3:\n",
    "        return 0  # not a valid polygon\n",
    "\n",
    "    area = 0\n",
    "    for i in range(n):\n",
    "        x1, y1 = polygon_points[i]\n",
    "        x2, y2 = polygon_points[(i + 1) % n]  # wrap around\n",
    "        area += x1 * y2 - x2 * y1\n",
    "\n",
    "    return abs(area) / 2\n",
    "\n",
    "# Apply to the DataFrame\n",
    "def add_polygon_area_column(df):\n",
    "    df['poly_area'] = df['parsed_geometry'].apply(calculate_polygon_area)\n",
    "    return df\n",
    "\n",
    "# Apply to your water_df\n",
    "water_df_filtered = add_polygon_area_column(water_df_filtered)\n",
    "\n",
    "# Optional: view result\n",
    "print(water_df_filtered[['parsed_geometry', 'poly_area']].head())\n",
    "\n"
   ]
  },
  {
   "cell_type": "code",
   "execution_count": 18,
   "metadata": {},
   "outputs": [
    {
     "data": {
      "image/png": "[encoded data removed]",
      "text/plain": [
       "<Figure size 1000x800 with 1 Axes>"
      ]
     },
     "metadata": {},
     "output_type": "display_data"
    }
   ],
   "source": [
    "import matplotlib.pyplot as plt\n",
    "from matplotlib.patches import Polygon as MplPolygon\n",
    "from matplotlib.collections import PatchCollection\n",
    "from geospatial import Polygon, Point  # your custom class\n",
    "\n",
    "def plot_water_geometry(df, geometry_column='parsed_geometry', title='Water Polygons in Zurich'):\n",
    "    fig, ax = plt.subplots(figsize=(10, 8))\n",
    "    patches = []\n",
    "\n",
    "    for _, row in df.iterrows():\n",
    "        polygon = Polygon(data=row[geometry_column], xcol=0, ycol=1)\n",
    "        mpl_polygon = MplPolygon([(point.x, point.y) for point in polygon.points], closed=True,\n",
    "                                 edgecolor='blue', facecolor='lightblue', alpha=0.6)\n",
    "        patches.append(mpl_polygon)\n",
    "\n",
    "    collection = PatchCollection(patches, match_original=True)\n",
    "    ax.add_collection(collection)\n",
    "\n",
    "    # Set axis limits (CH1903+ / LV95)\n",
    "    ax.set_xlim(2.677e6, 2.689e6)\n",
    "    ax.set_ylim(1.241e6, 1.255e6)\n",
    "\n",
    "    ax.set_title(title)\n",
    "    ax.set_xlabel(\"CH1903+ Easting (X)\")\n",
    "    ax.set_ylabel(\"CH1903+ Northing (Y)\")\n",
    "    plt.grid(True)\n",
    "    plt.show()\n",
    "\n",
    "# Call the function\n",
    "plot_water_geometry(water_df_filtered)\n"
   ]
  },
  {
   "cell_type": "markdown",
   "metadata": {},
   "source": [
    "##### 3.2. Keep only water polygons that:\n",
    "\n",
    "        - are inside park polygons (ponds),\n",
    "        - intersect park polygons (at least one point inside) (rivers) - and cut them with park polygon\n",
    "        - border park polygons (touching any edge) (Zurichhorn and Lake of Zurich)."
   ]
  },
  {
   "cell_type": "code",
   "execution_count": null,
   "metadata": {},
   "outputs": [],
   "source": [
    "# Sutherland–Hodgman algorithm, which clips a subject polygon against a convex clipping polygon.\n",
    "def sutherland_hodgman(subject_polygon, clip_polygon):\n",
    "    def inside(p, cp1, cp2):\n",
    "        return (cp2[0] - cp1[0]) * (p[1] - cp1[1]) > (cp2[1] - cp1[1]) * (p[0] - cp1[0])\n",
    "\n",
    "    def intersection(cp1, cp2, s, e):\n",
    "        dc = [cp1[0] - cp2[0], cp1[1] - cp2[1]]\n",
    "        dp = [s[0] - e[0], s[1] - e[1]]\n",
    "        n1 = cp1[0] * cp2[1] - cp1[1] * cp2[0]\n",
    "        n2 = s[0] * e[1] - s[1] * e[0]\n",
    "        denom = dc[0] * dp[1] - dc[1] * dp[0]\n",
    "        if denom == 0:\n",
    "            return None\n",
    "        x = (n1 * dp[0] - n2 * dc[0]) / denom\n",
    "        y = (n1 * dp[1] - n2 * dc[1]) / denom\n",
    "        return [x, y]\n",
    "\n",
    "    output_list = subject_polygon\n",
    "    cp1 = clip_polygon[-1]\n",
    "\n",
    "    for cp2 in clip_polygon:\n",
    "        input_list = output_list\n",
    "        output_list = []\n",
    "        if not input_list:\n",
    "            return []\n",
    "        s = input_list[-1]\n",
    "\n",
    "        for e in input_list:\n",
    "            if inside(e, cp1, cp2):\n",
    "                if not inside(s, cp1, cp2):\n",
    "                    inter = intersection(cp1, cp2, s, e)\n",
    "                    if inter:\n",
    "                        output_list.append(inter)\n",
    "                output_list.append(e)\n",
    "            elif inside(s, cp1, cp2):\n",
    "                inter = intersection(cp1, cp2, s, e)\n",
    "                if inter:\n",
    "                    output_list.append(inter)\n",
    "            s = e\n",
    "        cp1 = cp2\n",
    "\n",
    "    return output_list\n"
   ]
  },
  {
   "cell_type": "code",
   "execution_count": null,
   "metadata": {},
   "outputs": [],
   "source": [
    "# Algorithm to determine if a water body is entirely within a park, we can check if all its vertices lie inside the park polygon.\n",
    "def is_polygon_inside(subject_polygon, clip_polygon):\n",
    "    def point_in_polygon(point, polygon):\n",
    "        x, y = point\n",
    "        n = len(polygon)\n",
    "        inside = False\n",
    "\n",
    "        px1, py1 = polygon[0]\n",
    "        for i in range(n + 1):\n",
    "            px2, py2 = polygon[i % n]\n",
    "            if y > min(py1, py2):\n",
    "                if y <= max(py1, py2):\n",
    "                    if x <= max(px1, px2):\n",
    "                        if py1 != py2:\n",
    "                            xinters = (y - py1) * (px2 - px1) / (py2 - py1) + px1\n",
    "                        if px1 == px2 or x <= xinters:\n",
    "                            inside = not inside\n",
    "            px1, py1 = px2, py2\n",
    "\n",
    "        return inside\n",
    "\n",
    "    return all(point_in_polygon(point, clip_polygon) for point in subject_polygon)\n"
   ]
  },
  {
   "cell_type": "code",
   "execution_count": null,
   "metadata": {},
   "outputs": [
    {
     "ename": "NameError",
     "evalue": "name 'dfParks_combined' is not defined",
     "output_type": "error",
     "traceback": [
      "\u001b[31m---------------------------------------------------------------------------\u001b[39m",
      "\u001b[31mNameError\u001b[39m                                 Traceback (most recent call last)",
      "\u001b[36mCell\u001b[39m\u001b[36m \u001b[39m\u001b[32mIn[21]\u001b[39m\u001b[32m, line 8\u001b[39m\n\u001b[32m      6\u001b[39m \u001b[38;5;28;01mfor\u001b[39;00m _, water_row \u001b[38;5;129;01min\u001b[39;00m water_df_filtered.iterrows():\n\u001b[32m      7\u001b[39m     water_geom = water_row[\u001b[33m'\u001b[39m\u001b[33mparsed_geometry\u001b[39m\u001b[33m'\u001b[39m]\n\u001b[32m----> \u001b[39m\u001b[32m8\u001b[39m     \u001b[38;5;28;01mfor\u001b[39;00m _, park_row \u001b[38;5;129;01min\u001b[39;00m \u001b[43mdfParks_combined\u001b[49m.iterrows():\n\u001b[32m      9\u001b[39m         park_geom = park_row[\u001b[33m'\u001b[39m\u001b[33mparsed_geometry\u001b[39m\u001b[33m'\u001b[39m]\n\u001b[32m     10\u001b[39m         \u001b[38;5;28;01mif\u001b[39;00m is_polygon_inside(water_geom, park_geom):\n\u001b[32m     11\u001b[39m             \u001b[38;5;66;03m# Case 1\u001b[39;00m\n",
      "\u001b[31mNameError\u001b[39m: name 'dfParks_combined' is not defined"
     ]
    }
   ],
   "source": [
    "# Process water bodies\n",
    "import pandas as pd\n",
    "\n",
    "\n",
    "processed_water_bodies = []\n",
    "\n",
    "for _, water_row in water_df_filtered.iterrows():\n",
    "    water_geom = water_row['parsed_geometry']\n",
    "    for _, park_row in dfParks_combined.iterrows():\n",
    "        park_geom = park_row['parsed_geometry']\n",
    "        if is_polygon_inside(water_geom, park_geom):\n",
    "            # Case 1\n",
    "            processed_water_bodies.append({\n",
    "                'geometry': water_geom,\n",
    "                'type': 'within'\n",
    "            })\n",
    "        else:\n",
    "            # Case 2 and 3\n",
    "            clipped = sutherland_hodgman(water_geom, park_geom)\n",
    "            if clipped:\n",
    "                processed_water_bodies.append({\n",
    "                    'geometry': clipped,\n",
    "                    'type': 'clipped'\n",
    "                })\n",
    "\n",
    "# Create DataFrame and calculate area\n",
    "for item in processed_water_bodies:\n",
    "    item['area'] = calculate_polygon_area(item['geometry'])\n",
    "\n",
    "# Convert list of dicts to DataFrame\n",
    "water_df_processed = pd.DataFrame(processed_water_bodies)\n",
    "\n",
    "# Output \n",
    "print(water_df_processed.head())"
   ]
  },
  {
   "cell_type": "code",
   "execution_count": null,
   "metadata": {},
   "outputs": [],
   "source": [
    "# Tie each processed water body to the specific park it intersects or is inside,\n",
    "def water_related_park(water_geom, parks_df):\n",
    "    for _, park_row in parks_df.iterrows():\n",
    "        park_geom = park_row['parsed_geometry']\n",
    "        # Check if water is fully inside the park\n",
    "        if is_polygon_inside(water_geom, park_geom):\n",
    "            return park_row['pflegeareal']  # or another identifier\n",
    "        # Check for intersection\n",
    "        elif sutherland_hodgman(water_geom, park_geom):\n",
    "            return park_row['pflegeareal']\n",
    "    return None\n",
    "\n",
    "# Apply to associate parks\n",
    "water_df_processed['related_park'] = water_df_processed['geometry'].apply(\n",
    "    lambda geom: water_related_park(geom, dfParks_combined)\n",
    ")\n",
    "\n",
    "# Result\n",
    "print(water_df_processed[['type', 'area', 'related_park']].head())\n"
   ]
  },
  {
   "cell_type": "markdown",
   "metadata": {},
   "source": [
    "##### 3.3. Calculate proportion of greenspace and blue space in parks"
   ]
  },
  {
   "cell_type": "code",
   "execution_count": null,
   "metadata": {},
   "outputs": [],
   "source": []
  },
  {
   "cell_type": "markdown",
   "metadata": {},
   "source": [
    "#### 4. Data Merging/Joining"
   ]
  },
  {
   "cell_type": "code",
   "execution_count": null,
   "metadata": {},
   "outputs": [],
   "source": []
  },
  {
   "cell_type": "markdown",
   "metadata": {},
   "source": [
    "#### 5. Point in Polygon (Algorithm)"
   ]
  },
  {
   "cell_type": "code",
   "execution_count": null,
   "metadata": {},
   "outputs": [],
   "source": []
  },
  {
   "cell_type": "markdown",
   "metadata": {},
   "source": [
    "### 6. Socialshilfe data prep"
   ]
  },
  {
   "cell_type": "code",
   "execution_count": null,
   "metadata": {},
   "outputs": [],
   "source": []
  },
  {
   "cell_type": "markdown",
   "metadata": {},
   "source": [
    "#### X. Clustering (We could attempt an algorithm)"
   ]
  },
  {
   "cell_type": "code",
   "execution_count": null,
   "metadata": {},
   "outputs": [],
   "source": []
  }
 ],
 "metadata": {
  "kernelspec": {
   "display_name": "Python 3",
   "language": "python",
   "name": "python3"
  },
  "language_info": {
   "codemirror_mode": {
    "name": "ipython",
    "version": 3
   },
   "file_extension": ".py",
   "mimetype": "text/x-python",
   "name": "python",
   "nbconvert_exporter": "python",
   "pygments_lexer": "ipython3",
   "version": "3.13.2"
  }
 },
 "nbformat": 4,
 "nbformat_minor": 2
}
