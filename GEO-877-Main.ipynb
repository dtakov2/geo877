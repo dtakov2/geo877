{
 "cells": [
  {
   "cell_type": "markdown",
   "metadata": {},
   "source": [
    "## GEO 877 - Spatial Algorithms \n",
    "### Group Kirsteina \n",
    "#### Tamara, Joya, Andrejs, Djordje"
   ]
  },
  {
   "cell_type": "markdown",
   "metadata": {},
   "source": []
  }
 ],
 "metadata": {
  "language_info": {
   "name": "python"
  }
 },
 "nbformat": 4,
 "nbformat_minor": 2
}
