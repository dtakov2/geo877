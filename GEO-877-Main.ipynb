{
 "cells": [
  {
   "cell_type": "markdown",
   "metadata": {},
   "source": [
    "## GEO 877 - Spatial Algorithms \n",
    "### Group Kirsteina \n",
    "#### Tamara, Joya, Andrejs, Djordje"
   ]
  },
  {
   "cell_type": "markdown",
   "metadata": {},
   "source": [
    "### Data"
   ]
  },
  {
   "cell_type": "markdown",
   "metadata": {},
   "source": [
    "\n",
    "#### Description\n",
    "For our analysis, we will be using the following data:\n",
    "- Park data - Grünfläschen - Stadt Zürich - **BOUNDARY DATA**\n",
    "    - 4 data types: Parks, Sports Areas, Cemeteries, Other\n",
    "    - We will use Parks, Sports Areas, and Cemeteries as designated \"parks\"\n",
    "    - We are considering adding Forests to the \"parks\" set\n",
    "        - Could someone please download it, I can't: https://www.stadt-zuerich.ch/geodaten/download/111\n",
    "    - **Can we find a shapefile somewhere that has just green areas as polygons?** we can use it to calculate % areas\n",
    "\n",
    "\n",
    "- Fountain data - **EVALUATION DATA**\n",
    "    - Brunnen - fountains for heat relief\n",
    "    - Stillgewässer - fountains for drinking \n",
    "    - **Can we find a shapefile somewhere that has just water areas as polygons?** we can use it to calculate % areas\n",
    "\n",
    "\n",
    "- ZüriWC data - **EVALUATION DATA**\n",
    "    - Location of publicly accessible WCs\n",
    "\n",
    "\n",
    "- Spielpark data - **EVALUATION DATA**\n",
    "    - Location of kids' playgrounds\n",
    "\n",
    "\n",
    "- LIDAR data - Canopy Height - **EVALUATION DATA**\n",
    "    - Download link: https://www.stadt-zuerich.ch/geodaten/download/Baumhoehen_2022__CHM_aus_Lidar_ \n",
    "\n",
    "\n",
    "- Socialshilfe data - **EVALUATION DATA**\n",
    "    - Data on Social Assistance Quotas - need additional clarity whether this is percent of residents that receive Social Assistance or else\n",
    "\n",
    "\n",
    "#### Data Structure\n",
    "\n",
    "| PolygonID | Polygon Info | Green Area | Water Area | WC | Fountain | Playground | Socialshilfe | Canopy Height |\n",
    "| --- | --- | --- | --- | --- | --- | --- | --- | --- |\n",
    "| X1 | coordinates | % of park | % of park | yes/no boolean | yes/no boolean | yes/no boolean | quota* | height* |\n",
    "\n",
    "*needs more thought and discussion\n"
   ]
  },
  {
   "cell_type": "markdown",
   "metadata": {},
   "source": [
    "### Analysis Workflow - Preliminary"
   ]
  },
  {
   "cell_type": "markdown",
   "metadata": {},
   "source": [
    "\n",
    "1. Create park polygons:\n",
    "    1. Download Wald data\n",
    "    2. Remove \"other\" category\n",
    "    3. Add Wald data\n",
    "    4. Finalize all polygons - ensure all lines are cohesive\n",
    "2. LIDAR Data:\n",
    "    1. Prepare LIDAR data\n",
    "    2. Extract only relevant data for Parks (Union of Park extent and LIDAR) to remove excess\n",
    "3. Calculations:\n",
    "    1. Park area as green space - %\n",
    "    2. Park area as water space - %\n",
    "4. Data Merge:\n",
    "    1. Green area - join data to each park\n",
    "    2. Water area - join data to each park\n",
    "    3. Socialshilfe - join data to each park\n",
    "5. Point in Polygon:\n",
    "    1. WC - each park receives a numeric value\n",
    "    2. Fountain - each park receives a numeric value\n",
    "    3. Playground - each park receives a numeric value\n",
    "6. Point in Polygon - translated:\n",
    "    1. For each (WC, Fountain, Playground) assign a yes/no as result of a logical test loop (0 = no, 0> yes)\n",
    "7. LIDAR Data\n",
    "    1. **Determine a way to use this data** that is in line with the paper\n",
    "8. Clustering\n"
   ]
  },
  {
   "cell_type": "markdown",
   "metadata": {},
   "source": [
    "### Production"
   ]
  },
  {
   "cell_type": "code",
   "execution_count": 1,
   "metadata": {},
   "outputs": [],
   "source": [
    "#Packages\n",
    "\n",
    "from geospatial import *\n",
    "import numpy as np\n",
    "import pandas as pd\n",
    "import matplotlib.pyplot as plt"
   ]
  },
  {
   "cell_type": "markdown",
   "metadata": {},
   "source": [
    "#### 1. Polygon creation"
   ]
  },
  {
   "cell_type": "code",
   "execution_count": null,
   "metadata": {},
   "outputs": [
    {
     "data": {
      "text/plain": [
       "array(['610 Parkanlagen', '630 Sport- und Badeanlagen',\n",
       "       '640 Weitere Freiräume', '620 Friedhöfe'], dtype=object)"
      ]
     },
     "execution_count": 13,
     "metadata": {},
     "output_type": "execute_result"
    }
   ],
   "source": [
    "#Data Import\n",
    "\n",
    "parks = pd.read_csv('data/grunflaschen_csv/data/gsz.gruenflaechen.csv')\n",
    "#parks['produkt'].unique()\n",
    "\n",
    "#forests = pd.read_csv\n",
    "#..."
   ]
  },
  {
   "cell_type": "code",
   "execution_count": null,
   "metadata": {},
   "outputs": [
    {
     "name": "stdout",
     "output_type": "stream",
     "text": [
      "<class 'pandas.core.frame.DataFrame'>\n",
      "Index: 17903 entries, 0 to 51474\n",
      "Data columns (total 8 columns):\n",
      " #   Column               Non-Null Count  Dtype \n",
      "---  ------               --------------  ----- \n",
      " 0   objektidentifikator  17903 non-null  int64 \n",
      " 1   pflegeareal          17903 non-null  object\n",
      " 2   produkt              17903 non-null  object\n",
      " 3   erfassungseinheit    17903 non-null  object\n",
      " 4   objectid             17903 non-null  int64 \n",
      " 5   pflegeeinheit        17903 non-null  object\n",
      " 6   pflegestufe          17799 non-null  object\n",
      " 7   geometry             17903 non-null  object\n",
      "dtypes: int64(2), object(6)\n",
      "memory usage: 1.2+ MB\n"
     ]
    }
   ],
   "source": [
    "#Data Cleaning\n",
    "filtered_park = []\n",
    "for x, y in parks.iterrows():\n",
    "    if y['produkt'] != \"640 Weitere Freiräume\":\n",
    "        filtered_park.append(y)\n",
    "\n",
    "parks = pd.DataFrame(filtered_park)\n",
    "\n",
    "parks['produkt'].unique()\n",
    "#parks.info()"
   ]
  },
  {
   "cell_type": "markdown",
   "metadata": {},
   "source": [
    "#### 2. LiDAR data preparation"
   ]
  },
  {
   "cell_type": "code",
   "execution_count": null,
   "metadata": {},
   "outputs": [],
   "source": []
  },
  {
   "cell_type": "markdown",
   "metadata": {},
   "source": [
    "#### 3. % Space Calculations (I think that we can make this an algorithm, too)"
   ]
  },
  {
   "cell_type": "code",
   "execution_count": null,
   "metadata": {},
   "outputs": [],
   "source": []
  },
  {
   "cell_type": "markdown",
   "metadata": {},
   "source": [
    "#### 4. Data Merging/Joining"
   ]
  },
  {
   "cell_type": "code",
   "execution_count": null,
   "metadata": {},
   "outputs": [],
   "source": []
  },
  {
   "cell_type": "markdown",
   "metadata": {},
   "source": [
    "#### 5. Point in Polygon (Algorithm)"
   ]
  },
  {
   "cell_type": "code",
   "execution_count": null,
   "metadata": {},
   "outputs": [],
   "source": []
  },
  {
   "cell_type": "markdown",
   "metadata": {},
   "source": [
    "#### X. Clustering (We could attempt an algorithm)"
   ]
  },
  {
   "cell_type": "code",
   "execution_count": null,
   "metadata": {},
   "outputs": [],
   "source": []
  }
 ],
 "metadata": {
  "kernelspec": {
   "display_name": "Python 3",
   "language": "python",
   "name": "python3"
  },
  "language_info": {
   "codemirror_mode": {
    "name": "ipython",
    "version": 3
   },
   "file_extension": ".py",
   "mimetype": "text/x-python",
   "name": "python",
   "nbconvert_exporter": "python",
   "pygments_lexer": "ipython3",
   "version": "3.13.2"
  }
 },
 "nbformat": 4,
 "nbformat_minor": 2
}
